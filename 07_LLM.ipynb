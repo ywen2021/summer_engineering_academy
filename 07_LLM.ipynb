{
  "nbformat": 4,
  "nbformat_minor": 0,
  "metadata": {
    "colab": {
      "provenance": [],
      "gpuType": "T4"
    },
    "kernelspec": {
      "name": "python3",
      "display_name": "Python 3"
    },
    "language_info": {
      "name": "python"
    },
    "accelerator": "GPU"
  },
  "cells": [
    {
      "cell_type": "markdown",
      "source": [
        "### Play with an LLM"
      ],
      "metadata": {
        "id": "2LnIlmGAgAZR"
      }
    },
    {
      "cell_type": "code",
      "source": [
        "# Install Hugging Face Transformers (only needs to be done once)\n",
        "!pip install transformers\n",
        "\n"
      ],
      "metadata": {
        "id": "XGWd_p08gC8o"
      },
      "execution_count": null,
      "outputs": []
    },
    {
      "cell_type": "markdown",
      "source": [
        " ## Load a Small Language Model\n",
        "We’ll use distilgpt2, a small version of GPT-2 that runs on most laptops."
      ],
      "metadata": {
        "id": "499G_i5Zecfv"
      }
    },
    {
      "cell_type": "code",
      "source": [
        "from transformers import pipeline\n",
        "\n",
        "# Load a text generation pipeline using a small model\n",
        "generator = pipeline(\"text-generation\", model=\"distilgpt2\")\n"
      ],
      "metadata": {
        "id": "bJHoaIDyeZGZ"
      },
      "execution_count": 11,
      "outputs": []
    },
    {
      "cell_type": "markdown",
      "source": [
        "Generate Text"
      ],
      "metadata": {
        "id": "e-K0r0ebe5oF"
      }
    },
    {
      "cell_type": "code",
      "source": [
        "\n",
        "# Let the student provide a starting text\n",
        "prompt = input(\"Write a sentence to start: \")\n",
        "\n",
        "# Generate text\n",
        "result = generator(prompt, max_length=50, num_return_sequences=1)\n",
        "\n",
        "# Print the output\n",
        "print(\"\\nGenerated text:\")\n",
        "print(result[0]['generated_text'])"
      ],
      "metadata": {
        "id": "1kb-AFboe8h6"
      },
      "execution_count": 11,
      "outputs": []
    }
  ]
}