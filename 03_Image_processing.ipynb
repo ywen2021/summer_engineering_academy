{
  "cells": [
    {
      "cell_type": "markdown",
      "id": "66ce7a2d-ac19-4dbf-9690-e6ccfe41b4cf",
      "metadata": {
        "id": "66ce7a2d-ac19-4dbf-9690-e6ccfe41b4cf"
      },
      "source": [
        "# Image Processing\n",
        "\n",
        "In this part,  we will learn how to do basic image processing using Python and the scientific packages openCV, Numpy, scikit-image, Matplotlib and Pandas.\n",
        "## Some popular image processing libraries in python include:\n",
        "- OpenCV\n",
        "- scikit-image\n",
        "- PIL\n",
        "- and more\\\n",
        "We just tried scikit-image, Let's use OpenCV this time."
      ]
    },
    {
      "cell_type": "markdown",
      "id": "6efcc98a",
      "metadata": {
        "id": "6efcc98a"
      },
      "source": [
        "### Step 1: Set up the environment\n",
        "import the necessary libraries"
      ]
    },
    {
      "cell_type": "code",
      "execution_count": null,
      "id": "d9f7a7eb",
      "metadata": {
        "id": "d9f7a7eb"
      },
      "outputs": [],
      "source": [
        "import cv2\n",
        "import numpy as np\n",
        "import matplotlib.pyplot as plt\n",
        "from skimage import io\n",
        "# We are using the warning library to avoid getting a warning, it is not a big deal.\n",
        "import warnings\n",
        "warnings.filterwarnings(\"ignore\")"
      ]
    },
    {
      "cell_type": "markdown",
      "source": [
        "### Step 2: Update an image\n",
        "To upload an image in Google Colab, you can choose one of following:\n",
        "\n",
        "option 1. Mount Google Drive : If your image is stored in Google Drive and you want to access it from Colab, you can mount your Google Drive by running the following code cell: \\\n",
        "\n",
        "from google.colab import drive\\\n",
        "drive.mount('/content/drive')\n",
        "\n",
        "option 2. You can upload an image directly to Colab:\n",
        "\n",
        "from google.colab import files \\\n",
        "uploaded = files.upload()\n",
        "\n",
        "This will prompt you to select a file from your local machine. Select the image file you want to upload.\n",
        "\n"
      ],
      "metadata": {
        "id": "Q2HjZt6_FhR-"
      },
      "id": "Q2HjZt6_FhR-"
    },
    {
      "cell_type": "code",
      "source": [
        "from google.colab import files\n",
        "uploaded = files.upload()"
      ],
      "metadata": {
        "id": "Dq-i5zIWFJuk",
        "colab": {
          "base_uri": "https://localhost:8080/",
          "height": 37
        },
        "outputId": "841f9656-5236-48a4-802d-1e29b0bcdb28"
      },
      "id": "Dq-i5zIWFJuk",
      "execution_count": null,
      "outputs": [
        {
          "output_type": "display_data",
          "data": {
            "text/plain": [
              "<IPython.core.display.HTML object>"
            ],
            "text/html": [
              "\n",
              "     <input type=\"file\" id=\"files-5376597a-1b26-41d9-9e16-7c38242c5a47\" name=\"files[]\" multiple disabled\n",
              "        style=\"border:none\" />\n",
              "     <output id=\"result-5376597a-1b26-41d9-9e16-7c38242c5a47\">\n",
              "      Upload widget is only available when the cell has been executed in the\n",
              "      current browser session. Please rerun this cell to enable.\n",
              "      </output>\n",
              "      <script>// Copyright 2017 Google LLC\n",
              "//\n",
              "// Licensed under the Apache License, Version 2.0 (the \"License\");\n",
              "// you may not use this file except in compliance with the License.\n",
              "// You may obtain a copy of the License at\n",
              "//\n",
              "//      http://www.apache.org/licenses/LICENSE-2.0\n",
              "//\n",
              "// Unless required by applicable law or agreed to in writing, software\n",
              "// distributed under the License is distributed on an \"AS IS\" BASIS,\n",
              "// WITHOUT WARRANTIES OR CONDITIONS OF ANY KIND, either express or implied.\n",
              "// See the License for the specific language governing permissions and\n",
              "// limitations under the License.\n",
              "\n",
              "/**\n",
              " * @fileoverview Helpers for google.colab Python module.\n",
              " */\n",
              "(function(scope) {\n",
              "function span(text, styleAttributes = {}) {\n",
              "  const element = document.createElement('span');\n",
              "  element.textContent = text;\n",
              "  for (const key of Object.keys(styleAttributes)) {\n",
              "    element.style[key] = styleAttributes[key];\n",
              "  }\n",
              "  return element;\n",
              "}\n",
              "\n",
              "// Max number of bytes which will be uploaded at a time.\n",
              "const MAX_PAYLOAD_SIZE = 100 * 1024;\n",
              "\n",
              "function _uploadFiles(inputId, outputId) {\n",
              "  const steps = uploadFilesStep(inputId, outputId);\n",
              "  const outputElement = document.getElementById(outputId);\n",
              "  // Cache steps on the outputElement to make it available for the next call\n",
              "  // to uploadFilesContinue from Python.\n",
              "  outputElement.steps = steps;\n",
              "\n",
              "  return _uploadFilesContinue(outputId);\n",
              "}\n",
              "\n",
              "// This is roughly an async generator (not supported in the browser yet),\n",
              "// where there are multiple asynchronous steps and the Python side is going\n",
              "// to poll for completion of each step.\n",
              "// This uses a Promise to block the python side on completion of each step,\n",
              "// then passes the result of the previous step as the input to the next step.\n",
              "function _uploadFilesContinue(outputId) {\n",
              "  const outputElement = document.getElementById(outputId);\n",
              "  const steps = outputElement.steps;\n",
              "\n",
              "  const next = steps.next(outputElement.lastPromiseValue);\n",
              "  return Promise.resolve(next.value.promise).then((value) => {\n",
              "    // Cache the last promise value to make it available to the next\n",
              "    // step of the generator.\n",
              "    outputElement.lastPromiseValue = value;\n",
              "    return next.value.response;\n",
              "  });\n",
              "}\n",
              "\n",
              "/**\n",
              " * Generator function which is called between each async step of the upload\n",
              " * process.\n",
              " * @param {string} inputId Element ID of the input file picker element.\n",
              " * @param {string} outputId Element ID of the output display.\n",
              " * @return {!Iterable<!Object>} Iterable of next steps.\n",
              " */\n",
              "function* uploadFilesStep(inputId, outputId) {\n",
              "  const inputElement = document.getElementById(inputId);\n",
              "  inputElement.disabled = false;\n",
              "\n",
              "  const outputElement = document.getElementById(outputId);\n",
              "  outputElement.innerHTML = '';\n",
              "\n",
              "  const pickedPromise = new Promise((resolve) => {\n",
              "    inputElement.addEventListener('change', (e) => {\n",
              "      resolve(e.target.files);\n",
              "    });\n",
              "  });\n",
              "\n",
              "  const cancel = document.createElement('button');\n",
              "  inputElement.parentElement.appendChild(cancel);\n",
              "  cancel.textContent = 'Cancel upload';\n",
              "  const cancelPromise = new Promise((resolve) => {\n",
              "    cancel.onclick = () => {\n",
              "      resolve(null);\n",
              "    };\n",
              "  });\n",
              "\n",
              "  // Wait for the user to pick the files.\n",
              "  const files = yield {\n",
              "    promise: Promise.race([pickedPromise, cancelPromise]),\n",
              "    response: {\n",
              "      action: 'starting',\n",
              "    }\n",
              "  };\n",
              "\n",
              "  cancel.remove();\n",
              "\n",
              "  // Disable the input element since further picks are not allowed.\n",
              "  inputElement.disabled = true;\n",
              "\n",
              "  if (!files) {\n",
              "    return {\n",
              "      response: {\n",
              "        action: 'complete',\n",
              "      }\n",
              "    };\n",
              "  }\n",
              "\n",
              "  for (const file of files) {\n",
              "    const li = document.createElement('li');\n",
              "    li.append(span(file.name, {fontWeight: 'bold'}));\n",
              "    li.append(span(\n",
              "        `(${file.type || 'n/a'}) - ${file.size} bytes, ` +\n",
              "        `last modified: ${\n",
              "            file.lastModifiedDate ? file.lastModifiedDate.toLocaleDateString() :\n",
              "                                    'n/a'} - `));\n",
              "    const percent = span('0% done');\n",
              "    li.appendChild(percent);\n",
              "\n",
              "    outputElement.appendChild(li);\n",
              "\n",
              "    const fileDataPromise = new Promise((resolve) => {\n",
              "      const reader = new FileReader();\n",
              "      reader.onload = (e) => {\n",
              "        resolve(e.target.result);\n",
              "      };\n",
              "      reader.readAsArrayBuffer(file);\n",
              "    });\n",
              "    // Wait for the data to be ready.\n",
              "    let fileData = yield {\n",
              "      promise: fileDataPromise,\n",
              "      response: {\n",
              "        action: 'continue',\n",
              "      }\n",
              "    };\n",
              "\n",
              "    // Use a chunked sending to avoid message size limits. See b/62115660.\n",
              "    let position = 0;\n",
              "    do {\n",
              "      const length = Math.min(fileData.byteLength - position, MAX_PAYLOAD_SIZE);\n",
              "      const chunk = new Uint8Array(fileData, position, length);\n",
              "      position += length;\n",
              "\n",
              "      const base64 = btoa(String.fromCharCode.apply(null, chunk));\n",
              "      yield {\n",
              "        response: {\n",
              "          action: 'append',\n",
              "          file: file.name,\n",
              "          data: base64,\n",
              "        },\n",
              "      };\n",
              "\n",
              "      let percentDone = fileData.byteLength === 0 ?\n",
              "          100 :\n",
              "          Math.round((position / fileData.byteLength) * 100);\n",
              "      percent.textContent = `${percentDone}% done`;\n",
              "\n",
              "    } while (position < fileData.byteLength);\n",
              "  }\n",
              "\n",
              "  // All done.\n",
              "  yield {\n",
              "    response: {\n",
              "      action: 'complete',\n",
              "    }\n",
              "  };\n",
              "}\n",
              "\n",
              "scope.google = scope.google || {};\n",
              "scope.google.colab = scope.google.colab || {};\n",
              "scope.google.colab._files = {\n",
              "  _uploadFiles,\n",
              "  _uploadFilesContinue,\n",
              "};\n",
              "})(self);\n",
              "</script> "
            ]
          },
          "metadata": {}
        }
      ]
    },
    {
      "cell_type": "markdown",
      "source": [
        "After the upload is complete, you can access the uploaded image file.\n",
        "Read the uploaded image file"
      ],
      "metadata": {
        "id": "E2B_mTWEFkU2"
      },
      "id": "E2B_mTWEFkU2"
    },
    {
      "cell_type": "code",
      "source": [
        "file_name = next(iter(uploaded))\n",
        "image = cv2.imread(file_name)"
      ],
      "metadata": {
        "id": "FpldpSxyFfo1"
      },
      "id": "FpldpSxyFfo1",
      "execution_count": null,
      "outputs": []
    },
    {
      "cell_type": "code",
      "source": [
        "# OpenCV reads images in BGR format, convert it to RGB\n",
        "image_rgb = cv2.cvtColor(image, cv2.COLOR_BGR2RGB)"
      ],
      "metadata": {
        "id": "du_MhWitF01l"
      },
      "id": "du_MhWitF01l",
      "execution_count": null,
      "outputs": []
    },
    {
      "cell_type": "code",
      "source": [
        "# Display using matplotlib\n",
        "plt.figure(figsize=(8, 6))\n",
        "plt.imshow(image_rgb)\n",
        "plt.axis('off')\n",
        "plt.title('Summer Fun')\n",
        "plt.show()"
      ],
      "metadata": {
        "id": "Djt2P8ubF_nH"
      },
      "id": "Djt2P8ubF_nH",
      "execution_count": null,
      "outputs": []
    },
    {
      "cell_type": "markdown",
      "id": "0d2df129",
      "metadata": {
        "id": "0d2df129"
      },
      "source": [
        "An RGB color is stored in a structure or unsigned integer with Blue occupying the least significant \"area\" (a byte in 32-bit and 24-bit formats), Green the second least, and Red the third least. BGR is the same, except the order of areas is reversed. Red occupies the least significant area, Green the second (still), and Blue the third."
      ]
    },
    {
      "cell_type": "markdown",
      "id": "a27f19bb",
      "metadata": {
        "id": "a27f19bb"
      },
      "source": [
        "### Step 3: Some basic image operations"
      ]
    },
    {
      "cell_type": "code",
      "execution_count": null,
      "id": "8aee3857",
      "metadata": {
        "id": "8aee3857"
      },
      "outputs": [],
      "source": [
        "### Covert to grayscale\n",
        "flag= cv2.IMREAD_GRAYSCALE\n",
        "image_gray= cv2.imread(file_name, flag)\n",
        "cmap= \"gray\" # cmap should be \"gray\" for grayscale images\n",
        "plt.imshow(image_gray, cmap= cmap), plt.title(\"Gray Scale Image\");"
      ]
    },
    {
      "cell_type": "code",
      "execution_count": null,
      "id": "d0537705",
      "metadata": {
        "id": "d0537705"
      },
      "outputs": [],
      "source": [
        "### Resize an image to a new width and height\n",
        "resized_image = cv2.resize(image, (300, 200))\n",
        "plt.imshow(cv2.cvtColor(resized_image, cv2.COLOR_BGR2RGB))"
      ]
    },
    {
      "cell_type": "markdown",
      "id": "8f2b0381",
      "metadata": {
        "id": "8f2b0381"
      },
      "source": [
        "# Thresholding\n",
        "* We use thresholding to convert images to binary, making it easier to manipulate images.\n",
        "* We set a threshold and pixels below this threshold will be 0 (black), pixels above this threshold will be 1 (white).\n",
        "* The image should be grayscale to make a meaningful thresholding."
      ]
    },
    {
      "cell_type": "code",
      "execution_count": null,
      "id": "4f7018ca",
      "metadata": {
        "id": "4f7018ca"
      },
      "outputs": [],
      "source": [
        "thresh, image_binary= cv2.threshold(image_gray, thresh= 150, maxval= 255, type= cv2.THRESH_BINARY)"
      ]
    },
    {
      "cell_type": "code",
      "execution_count": null,
      "id": "92eed0de",
      "metadata": {
        "id": "92eed0de"
      },
      "outputs": [],
      "source": [
        "plt.figure(figsize= (15,10))\n",
        "plt.subplot(1,2,1), plt.imshow(image_gray, cmap= \"gray\"), plt.title(\"Gray Image\"), plt.axis(\"off\")\n",
        "plt.subplot(1,2,2), plt.imshow(image_binary, cmap= \"binary\"), plt.title(\"Binary Image\"), plt.axis(\"off\")\n",
        "plt.show()"
      ]
    },
    {
      "cell_type": "markdown",
      "id": "f51da55b",
      "metadata": {
        "id": "f51da55b"
      },
      "source": [
        "### Apply different filters to an image."
      ]
    },
    {
      "cell_type": "code",
      "execution_count": null,
      "id": "8e36a5ee",
      "metadata": {
        "id": "8e36a5ee"
      },
      "outputs": [],
      "source": [
        "blurred_image = cv2.GaussianBlur(image, (15, 15), 0)\n",
        "# Display the blurred image\n",
        "plt.imshow(cv2.cvtColor(blurred_image, cv2.COLOR_BGR2RGB))"
      ]
    },
    {
      "cell_type": "markdown",
      "id": "47043b4a",
      "metadata": {
        "id": "47043b4a"
      },
      "source": [
        "### Edge Detection"
      ]
    },
    {
      "cell_type": "code",
      "execution_count": null,
      "id": "b66ec065",
      "metadata": {
        "id": "b66ec065"
      },
      "outputs": [],
      "source": [
        "# Edge detection using Canny\n",
        "edges = cv2.Canny(image_gray, 100, 200)\n",
        "\n",
        "# Display the edges\n",
        "plt.imshow(edges, cmap='gray')"
      ]
    },
    {
      "cell_type": "markdown",
      "id": "9316652b",
      "metadata": {
        "id": "9316652b"
      },
      "source": [
        "## Create Your Own Sketch!\n",
        "Let's have some fun!      \n",
        "1. Convert a photo into a pencil sketch effect.\n",
        "you need to find a pic or take a pic yourself, print the original pic, then call the function below and print the new pic.\n",
        "\n",
        "2. (optional) Try out advanced techniques like object detection, image segmentation, or feature extraction. some functions you may find from [here](https://docs.opencv.org/4.x/d2/d96/tutorial_py_table_of_contents_imgproc.html).\n",
        "\n",
        "3. Add your sketch to a slide! \\\n",
        "Go to this google drive: https://drive.google.com/drive/folders/1mjBdJ8_ly4UlmieqODmyeCurRnA4Ewe3?usp=sharing \\\n",
        "Find today's date, and choose \"image_processing\" folder. \\\n",
        "Add your photo to a slide with your laptop number."
      ]
    },
    {
      "cell_type": "code",
      "execution_count": null,
      "id": "f05a18ad",
      "metadata": {
        "id": "f05a18ad"
      },
      "outputs": [],
      "source": [
        "def photo_sketch(image_path):\n",
        "    # Read the image\n",
        "    image = cv2.imread(image_path)\n",
        "\n",
        "    # Convert the image to grayscale\n",
        "    gray_image = cv2.cvtColor(image, cv2.COLOR_BGR2GRAY)\n",
        "\n",
        "    # Invert the grayscale image\n",
        "    inverted_image = cv2.bitwise_not(gray_image)\n",
        "\n",
        "    # Apply Gaussian Blur\n",
        "    blurred_image = cv2.GaussianBlur(inverted_image, (21, 21), 0)\n",
        "\n",
        "    # Invert the blurred image\n",
        "    inverted_blurred_image = cv2.bitwise_not(blurred_image)\n",
        "\n",
        "    # Create the pencil sketch\n",
        "    sketch_image = cv2.divide(gray_image, inverted_blurred_image, scale=256.0)\n",
        "\n",
        "    # Convert the sketch image to RGB for displaying with matplotlib\n",
        "    sketch_image_rgb = cv2.cvtColor(sketch_image, cv2.COLOR_GRAY2RGB)\n",
        "\n",
        "    return sketch_image_rgb"
      ]
    },
    {
      "cell_type": "code",
      "source": [
        "# Call the function here\n",
        "yourImage = files.upload()\n",
        "file_name = next(iter(yourImage))\n",
        "\n",
        "photo_sketch(file_name)"
      ],
      "metadata": {
        "id": "8JkHpmFq0YBT"
      },
      "id": "8JkHpmFq0YBT",
      "execution_count": null,
      "outputs": []
    }
  ],
  "metadata": {
    "kernelspec": {
      "display_name": "Python 3",
      "name": "python3"
    },
    "language_info": {
      "codemirror_mode": {
        "name": "ipython",
        "version": 3
      },
      "file_extension": ".py",
      "mimetype": "text/x-python",
      "name": "python",
      "nbconvert_exporter": "python",
      "pygments_lexer": "ipython3",
      "version": "3.10.0"
    },
    "colab": {
      "provenance": [],
      "gpuType": "T4"
    },
    "accelerator": "GPU"
  },
  "nbformat": 4,
  "nbformat_minor": 5
}