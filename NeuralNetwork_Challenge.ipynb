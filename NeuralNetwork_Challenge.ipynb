{
  "nbformat": 4,
  "nbformat_minor": 0,
  "metadata": {
    "colab": {
      "provenance": []
    },
    "kernelspec": {
      "name": "python3",
      "display_name": "Python 3"
    },
    "language_info": {
      "name": "python"
    }
  },
  "cells": [
    {
      "cell_type": "markdown",
      "source": [
        "## Challenge: predict whether a patient is likely to get stroke based on the input parameters like gender, age, various diseases, and smoking status.\n",
        "\n",
        "Data Description: \\\n",
        "1) id: unique identifier\\\n",
        "2) gender: \"Male\", \"Female\" or \"Other\"\\\n",
        "3) age: age of the patient\\\n",
        "4) hypertension: 0 if the patient doesn't have hypertension, 1 if the patient has hypertension\\\n",
        "5) heart_disease: 0 if the patient doesn't have any heart diseases, 1 if the patient has a heart disease\\\n",
        "6) ever_married: \"No\" or \"Yes\"\\\n",
        "7) work_type: \"children\", \"Govt_jov\", \"Never_worked\", \"Private\" or \"Self-employed\"\\\n",
        "8) Residence_type: \"Rural\" or \"Urban\"\\\n",
        "9) avg_glucose_level: average glucose level in blood\\\n",
        "10) bmi: body mass index\\\n",
        "11) smoking_status: \"formerly smoked\", \"never smoked\", \"smokes\" or \"Unknown\"\\\n",
        "12) stroke: 1 if the patient had a stroke or 0 if not"
      ],
      "metadata": {
        "id": "T7T-1xHplBLG"
      }
    },
    {
      "cell_type": "code",
      "execution_count": null,
      "metadata": {
        "id": "5pfPYD5Zk708"
      },
      "outputs": [],
      "source": [
        "### Load data\n",
        "df=pd.read_csv(\"https://raw.githubusercontent.com/ywen2021/CPSC392/main/Data/healthcare-dataset-stroke-data.csv\")\n",
        "df"
      ]
    },
    {
      "cell_type": "code",
      "source": [
        "### Data preprocessing\n",
        "\n",
        "# Dropping the columns having missing values\n",
        "df = df.dropna(axis=1)\n",
        "## Drop column \"id\"\n",
        "df=df.drop(columns=['id'])\n",
        "# Resetting the indices using df.reset_index()\n",
        "df = df.reset_index(drop=True)\n",
        "# Convert categorical variables to numerical\n",
        "### find categorical variables\n",
        "categorical_columns=[\"gender\",'ever_married','work_type', 'Residence_type',  'smoking_status','heart_disease']\n",
        "df = pd.get_dummies(df, columns=categorical_columns)\n",
        "\n",
        "# Split the dataset into features and labels\n",
        "\n",
        "\n",
        "# Split the data into training and testing sets with ratio=0.2\n",
        "\n",
        "\n",
        "# Normalize the continous features\n",
        "contin=['age','hypertension','avg_glucose_level']\n",
        "\n"
      ],
      "metadata": {
        "id": "Ugkt0rIvlFq0"
      },
      "execution_count": null,
      "outputs": []
    },
    {
      "cell_type": "code",
      "source": [
        "### Build the model\n",
        "## for example, you can consider to design a neural network that has 2 dense layers,  the first  dense layer  has 20 neurons.\n",
        "\n",
        "### compile the model\n",
        "\n",
        "\n",
        "### Train the model"
      ],
      "metadata": {
        "id": "kAE1uPDhlFER"
      },
      "execution_count": null,
      "outputs": []
    },
    {
      "cell_type": "code",
      "source": [
        "# Evaluate the model\n",
        "loss, accuracy = model.evaluate(X_test, y_test)\n",
        "print('Accuracy:', accuracy)"
      ],
      "metadata": {
        "id": "7XWuvnq1lFSC"
      },
      "execution_count": null,
      "outputs": []
    },
    {
      "cell_type": "code",
      "source": [
        "### Make predictions\n",
        "predictions = model.predict(X_test)\n",
        "predictions = (predictions > 0.5).astype(int)  # Convert probabilities to binary output\n",
        "\n",
        "\n",
        "acc_test = accuracy_score(y_test, predictions)\n",
        "acc_test"
      ],
      "metadata": {
        "id": "6iW5KynAlFg4"
      },
      "execution_count": null,
      "outputs": []
    }
  ]
}