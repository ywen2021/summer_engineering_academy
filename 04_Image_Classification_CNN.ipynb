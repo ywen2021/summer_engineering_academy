{
  "cells": [
    {
      "cell_type": "markdown",
      "metadata": {
        "_uuid": "8c80a83f7fb1ab87aabbdad97d11627fb0380e8f",
        "id": "a9Eie8oU2xMe"
      },
      "source": [
        "# MNIST Handwritten Digit Classification using CNN\n"
      ]
    },
    {
      "cell_type": "code",
      "execution_count": null,
      "metadata": {
        "_cell_guid": "b1076dfc-b9ad-4769-8c92-a6c4dae69d19",
        "_uuid": "8f2839f25d086af736a60e9eeb907d3b93b6e0e5",
        "id": "yqGJs4u02xMf"
      },
      "outputs": [],
      "source": [
        "import numpy as np\n",
        "import matplotlib.pyplot as plt\n",
        "# import warnings\n",
        "import warnings\n",
        "# filter warnings\n",
        "warnings.filterwarnings('ignore')\n",
        "from tensorflow.keras.datasets import mnist"
      ]
    },
    {
      "cell_type": "markdown",
      "metadata": {
        "_cell_guid": "79c7e3d0-c299-4dcb-8224-4455121ee9b0",
        "_uuid": "d629ff2d2480ee46fbb7e2d37f6b5fab8052498a",
        "collapsed": true,
        "id": "BAPgkHv-2xMf"
      },
      "source": [
        "<a id=\"1\"></a>\n",
        "## Loading the Data Set\n",
        "* In this part we load and visualize the data."
      ]
    },
    {
      "cell_type": "code",
      "execution_count": null,
      "metadata": {
        "_uuid": "6884db4361a209f639cd6f3bf15231d271ecf563",
        "colab": {
          "base_uri": "https://localhost:8080/",
          "height": 468
        },
        "id": "d0rKtiLM2xMf",
        "outputId": "9d23e09d-59ca-4f50-eaad-740e47044059"
      },
      "outputs": [
        {
          "output_type": "stream",
          "name": "stdout",
          "text": [
            "Train: X=(60000, 28, 28), y=(60000,)\n",
            "Test: X=(10000, 28, 28), y=(10000,)\n"
          ]
        },
        {
          "output_type": "display_data",
          "data": {
            "text/plain": [
              "<Figure size 640x480 with 9 Axes>"
            ],
            "image/png": "[encoded data removed]"
          },
          "metadata": {}
        }
      ],
      "source": [
        "# load dataset\n",
        "(trainX, trainy), (testX, testy) = mnist.load_data()\n",
        "# summarize loaded dataset\n",
        "print('Train: X=%s, y=%s' % (trainX.shape, trainy.shape))\n",
        "print('Test: X=%s, y=%s' % (testX.shape, testy.shape))\n",
        "# plot first few images\n",
        "for i in range(9):\n",
        " # define subplot\n",
        " plt.subplot(330 + 1 + i)\n",
        " # plot raw pixel data\n",
        " plt.imshow(trainX[i], cmap=plt.get_cmap('gray'))\n",
        "# show the figure\n",
        "plt.show()"
      ]
    },
    {
      "cell_type": "markdown",
      "metadata": {
        "id": "iLlSnPy82xMg"
      },
      "source": [
        "We can see that there are 60,000 examples in the training dataset and 10,000 in the test dataset and that images are indeed square with 28×28 pixels."
      ]
    },
    {
      "cell_type": "markdown",
      "metadata": {
        "_uuid": "74e341f4845b42101182eda3c990e3dc4dc64dff",
        "id": "i0LZv-Jp2xMg"
      },
      "source": [
        "<a id=\"2\"></a>\n",
        "## Normalization, Reshape and Label Encoding\n",
        "* Normalization\n",
        "    * We perform a grayscale normalization to reduce the effect of illumination's differences.\n",
        "    * If we perform normalization, CNN works faster.\n",
        "* Reshape\n",
        "    * Train and test images (28 x 28)\n",
        "    * We reshape all data to 28x28x1 3D matrices.\n",
        "    * Keras needs an extra dimension in the end which correspond to channels. Our images are gray scaled so it use only one channel.\n",
        "* Label Encoding  \n",
        "    * Encode labels to one hot vectors\n",
        "        * 2 => [0,0,1,0,0,0,0,0,0,0]\n",
        "        * 4 => [0,0,0,0,1,0,0,0,0,0]"
      ]
    },
    {
      "cell_type": "code",
      "execution_count": null,
      "metadata": {
        "_uuid": "f39e537f15757b5da3363c138a33e50bd78bbf49",
        "colab": {
          "base_uri": "https://localhost:8080/"
        },
        "id": "u6TOKiKv2xMg",
        "outputId": "ac5e0346-2c57-49f8-aff6-a7695b769811"
      },
      "outputs": [
        {
          "output_type": "stream",
          "name": "stdout",
          "text": [
            "trainX shape:  (60000, 28, 28)\n",
            "test shape:  (10000, 28, 28)\n"
          ]
        }
      ],
      "source": [
        "# Normalize the data\n",
        "trainX = trainX / 255.0\n",
        "testX = testX / 255.0\n",
        "print(\"trainX shape: \",trainX.shape)\n",
        "print(\"test shape: \",testX.shape)"
      ]
    },
    {
      "cell_type": "code",
      "execution_count": null,
      "metadata": {
        "_uuid": "d524f6de086928158a76c54d1685a92c1802e230",
        "colab": {
          "base_uri": "https://localhost:8080/"
        },
        "id": "5E6FHbEn2xMg",
        "outputId": "ba542f8a-85ca-4155-a627-2bd0d9d50fc5"
      },
      "outputs": [
        {
          "output_type": "stream",
          "name": "stdout",
          "text": [
            "trainX shape:  (60000, 28, 28, 1)\n",
            "test shape:  (10000, 28, 28, 1)\n"
          ]
        }
      ],
      "source": [
        "# Reshape\n",
        "trainX = trainX.reshape(-1,28,28,1)\n",
        "testX = testX.reshape(-1,28,28,1)\n",
        "print(\"trainX shape: \",trainX.shape)\n",
        "print(\"test shape: \",testX.shape)"
      ]
    },
    {
      "cell_type": "code",
      "execution_count": null,
      "metadata": {
        "_uuid": "d15d35ca439dce194a96f4442c7a1c085ce24d28",
        "id": "wiJHlxmo2xMg"
      },
      "outputs": [],
      "source": [
        "# Label Encoding\n",
        "from tensorflow.keras.utils import to_categorical # convert to one-hot-encoding\n",
        "trainy = to_categorical(trainy, num_classes = 10)\n",
        "testy = to_categorical(testy, num_classes = 10)"
      ]
    },
    {
      "cell_type": "code",
      "execution_count": null,
      "metadata": {
        "id": "BNK99oqt2xMh"
      },
      "outputs": [],
      "source": [
        "# Split the train and the validation set for the fitting\n",
        "from sklearn.model_selection import train_test_split\n",
        "trainX, train_val, trainy, valy = train_test_split(trainX, trainy, test_size = 0.1, random_state=2)"
      ]
    },
    {
      "cell_type": "code",
      "execution_count": null,
      "metadata": {
        "colab": {
          "base_uri": "https://localhost:8080/"
        },
        "id": "c4mHI_FF2xMh",
        "outputId": "99387f39-f69b-4825-8d37-734a23a19cf4"
      },
      "outputs": [
        {
          "output_type": "execute_result",
          "data": {
            "text/plain": [
              "(54000, 28, 28, 1)"
            ]
          },
          "metadata": {},
          "execution_count": 17
        }
      ],
      "source": [
        "trainX.shape"
      ]
    },
    {
      "cell_type": "markdown",
      "metadata": {
        "_uuid": "caf4b9f7fcae153ac1d4c0246b1defc9d9d30776",
        "id": "ZbjjDlNt2xMh"
      },
      "source": [
        "<a id=\"4\"></a>\n",
        "## Convolutional Neural Network\n",
        "* CNN is used for image classification, object detection\n",
        "* <a href=\"https://ibb.co/kV1j9p\"><img src=\"https://preview.ibb.co/nRkBpp/gec2.jpg\" alt=\"gec2\" border=\"0\"></a>"
      ]
    },
    {
      "cell_type": "markdown",
      "metadata": {
        "_uuid": "fd9feb4c4dadbb8a5cc8a32b5ef582d41b5c0698",
        "id": "FSETtK482xMh"
      },
      "source": [
        "<a id=\"11\"></a>\n",
        "### Create Model\n",
        "* conv => max pool => dropout => conv => max pool => dropout => fully connected (2 layer)\n",
        "* Dropout: Dropout is a technique where randomly selected neurons are ignored during training\n",
        "* <a href=\"https://ibb.co/jGcvVU\"><img src=\"https://preview.ibb.co/e7yPPp/dropout.jpg\" alt=\"dropout\" border=\"0\"></a>"
      ]
    },
    {
      "cell_type": "markdown",
      "source": [
        "Let's start to build the model, we'll build a simple model with Sequential().\n",
        "- Sequential(): an object that groups layers together in a linear stack\n",
        "- If we want to add layers dynamically, we can use .add() and .pop() to add and pop layers on/off our model. This would be useful, for example, if we wanted to loop through a list of values and add layers with those values."
      ],
      "metadata": {
        "id": "_N8TBI3u23pi"
      }
    },
    {
      "cell_type": "markdown",
      "source": [
        "### Layers\n",
        "\n",
        "Keras has many pre-defined layers that we can use:\n",
        "\n",
        "- Dense(): A basic densely connected layer with units nodes. Densely connected means that every node in the previous layer is connected to every node in the current layer.\n",
        "- Activation(): applies an activation function (defined by the activation argument) to the values coming into it.\n",
        "- Dropout (): disregarding certain nodes in a layer at random\n",
        "- Flatten (): converting the data into a 1-dimensional array for inputting it to the next layer.\n",
        "\n"
      ],
      "metadata": {
        "id": "J_hgJFHy3iAZ"
      }
    },
    {
      "cell_type": "code",
      "execution_count": null,
      "metadata": {
        "_uuid": "c441d7b3852cee5d3636272d4da2f96b169f81ac",
        "id": "98t3Gsh02xMh"
      },
      "outputs": [],
      "source": [
        "#\n",
        "from sklearn.metrics import confusion_matrix\n",
        "import itertools\n",
        "\n",
        "from keras.models import Sequential\n",
        "from keras.layers import Dense, Dropout, Flatten, Conv2D, MaxPool2D\n",
        "from keras.optimizers import RMSprop,Adam\n",
        "# from keras.preprocessing.image import ImageDataGenerator\n",
        "from keras.callbacks import ReduceLROnPlateau\n",
        "\n",
        "model = Sequential()\n",
        "#\n",
        "model.add(Conv2D(filters = 8, kernel_size = (5,5),padding = 'Same',\n",
        "                 activation ='relu', input_shape = (28,28,1)))\n",
        "model.add(MaxPool2D(pool_size=(2,2)))\n",
        "model.add(Dropout(0.25))\n",
        "#\n",
        "model.add(Conv2D(filters = 16, kernel_size = (3,3),padding = 'Same',\n",
        "                 activation ='relu'))\n",
        "model.add(MaxPool2D(pool_size=(2,2), strides=(2,2)))\n",
        "model.add(Dropout(0.25))\n",
        "# fully connected\n",
        "model.add(Flatten())\n",
        "model.add(Dense(256, activation = \"relu\"))\n",
        "model.add(Dropout(0.5))\n",
        "model.add(Dense(10, activation = \"softmax\"))"
      ]
    },
    {
      "cell_type": "markdown",
      "metadata": {
        "_uuid": "9a432df491777ca0019db6f6b972581f2c5bd9f9",
        "id": "IjWbAwY32xMi"
      },
      "source": [
        "<a id=\"12\"></a>\n",
        "### Define Optimizer   \n",
        "* Adam optimizer: Change the learning rate\n"
      ]
    },
    {
      "cell_type": "code",
      "execution_count": null,
      "metadata": {
        "_uuid": "607a02b42636e3115a1ac7a8edcadf61cf5ea1b0",
        "id": "EGpx6owm2xMi"
      },
      "outputs": [],
      "source": [
        "# Define the optimizer\n",
        "optimizer = Adam(learning_rate=0.001, beta_1=0.9, beta_2=0.999)"
      ]
    },
    {
      "cell_type": "markdown",
      "metadata": {
        "_uuid": "91bf542a979c5b191c534876186bf31e70ec7f06",
        "id": "MYlzuAch2xMi"
      },
      "source": [
        "<a id=\"13\"></a>\n",
        "### Loss Function\n",
        "* categorical crossentropy\n",
        "* We make binary cross entropy at previous parts and in machine learning tutorial\n",
        "* At this time we use categorical crossentropy. That means that we have multi class.\n",
        "* <a href=\"https://ibb.co/jm1bpp\"><img src=\"https://preview.ibb.co/nN3ZaU/cce.jpg\" alt=\"cce\" border=\"0\"></a>\n"
      ]
    },
    {
      "cell_type": "code",
      "execution_count": null,
      "metadata": {
        "_uuid": "0d1eefc68470b4cdcec04c2570651da3d97676d0",
        "id": "e76ohB542xMi"
      },
      "outputs": [],
      "source": [
        "# Compile the model\n",
        "model.compile(optimizer = optimizer , loss = \"categorical_crossentropy\", metrics=[\"accuracy\"])"
      ]
    },
    {
      "cell_type": "markdown",
      "metadata": {
        "_uuid": "d5d8fea4cbb9b53cf1bb5089357a33dc179ee981",
        "id": "B-vuhCBO2xMi"
      },
      "source": [
        "<a id=\"14\"></a>\n",
        "### Epochs and Batch Size\n",
        "* Say you have a dataset of 10 examples (or samples). You have a **batch size** of 2, and you've specified you want the algorithm to run for 3 **epochs**. Therefore, in each epoch, you have 5 **batches** (10/2 = 5). Each batch gets passed through the algorithm, therefore you have 5 iterations **per epoch**.\n",
        "* reference: https://stackoverflow.com/questions/4752626/epoch-vs-iteration-when-training-neural-networks"
      ]
    },
    {
      "cell_type": "code",
      "execution_count": null,
      "metadata": {
        "_uuid": "a237feb5e53ecbc8799101cb6e699877faafde77",
        "id": "_B2my3a42xMi"
      },
      "outputs": [],
      "source": [
        "epochs = 5  # for better result increase the epochs\n",
        "batch_size = 250"
      ]
    },
    {
      "cell_type": "code",
      "source": [
        "history = model.fit(x=trainX,y=trainy, batch_size=batch_size,epochs = epochs, validation_data = (train_val,valy))"
      ],
      "metadata": {
        "colab": {
          "base_uri": "https://localhost:8080/"
        },
        "id": "ACJbUusH5333",
        "outputId": "cdce44f1-275b-4fcc-b695-9a5624697d11"
      },
      "execution_count": null,
      "outputs": [
        {
          "output_type": "stream",
          "name": "stdout",
          "text": [
            "Epoch 1/5\n",
            "\u001b[1m216/216\u001b[0m \u001b[32m━━━━━━━━━━━━━━━━━━━━\u001b[0m\u001b[37m\u001b[0m \u001b[1m8s\u001b[0m 11ms/step - accuracy: 0.6278 - loss: 1.1177 - val_accuracy: 0.9485 - val_loss: 0.1683\n",
            "Epoch 2/5\n",
            "\u001b[1m216/216\u001b[0m \u001b[32m━━━━━━━━━━━━━━━━━━━━\u001b[0m\u001b[37m\u001b[0m \u001b[1m5s\u001b[0m 8ms/step - accuracy: 0.9242 - loss: 0.2468 - val_accuracy: 0.9708 - val_loss: 0.0980\n",
            "Epoch 3/5\n",
            "\u001b[1m216/216\u001b[0m \u001b[32m━━━━━━━━━━━━━━━━━━━━\u001b[0m\u001b[37m\u001b[0m \u001b[1m1s\u001b[0m 5ms/step - accuracy: 0.9468 - loss: 0.1690 - val_accuracy: 0.9745 - val_loss: 0.0774\n",
            "Epoch 4/5\n",
            "\u001b[1m216/216\u001b[0m \u001b[32m━━━━━━━━━━━━━━━━━━━━\u001b[0m\u001b[37m\u001b[0m \u001b[1m1s\u001b[0m 4ms/step - accuracy: 0.9554 - loss: 0.1450 - val_accuracy: 0.9790 - val_loss: 0.0651\n",
            "Epoch 5/5\n",
            "\u001b[1m216/216\u001b[0m \u001b[32m━━━━━━━━━━━━━━━━━━━━\u001b[0m\u001b[37m\u001b[0m \u001b[1m1s\u001b[0m 4ms/step - accuracy: 0.9603 - loss: 0.1277 - val_accuracy: 0.9820 - val_loss: 0.0555\n"
          ]
        }
      ]
    },
    {
      "cell_type": "code",
      "source": [
        "### Let's test the images in test dataset, we pick the first image\n",
        "\n",
        "plt.imshow(testX[0], cmap=\"gray\") # Import the image\n",
        "plt.show() # Plot the image"
      ],
      "metadata": {
        "colab": {
          "base_uri": "https://localhost:8080/",
          "height": 430
        },
        "id": "DVRLO3di_PEA",
        "outputId": "95b7c287-213f-42b8-c602-fd74613ccfe9"
      },
      "execution_count": null,
      "outputs": [
        {
          "output_type": "display_data",
          "data": {
            "text/plain": [
              "<Figure size 640x480 with 1 Axes>"
            ],
            "image/png": "[encoded data removed]"
          },
          "metadata": {}
        }
      ]
    },
    {
      "cell_type": "markdown",
      "source": [
        "### model Prediction"
      ],
      "metadata": {
        "id": "yuSrdekEBs6_"
      }
    },
    {
      "cell_type": "code",
      "source": [
        "Y_pred = model.predict(testX)"
      ],
      "metadata": {
        "colab": {
          "base_uri": "https://localhost:8080/"
        },
        "id": "Iy-W8fCl_Vse",
        "outputId": "8e9f59ef-6048-4ede-a8ef-fc4f8b8f4d90"
      },
      "execution_count": null,
      "outputs": [
        {
          "output_type": "stream",
          "name": "stdout",
          "text": [
            "\u001b[1m313/313\u001b[0m \u001b[32m━━━━━━━━━━━━━━━━━━━━\u001b[0m\u001b[37m\u001b[0m \u001b[1m1s\u001b[0m 3ms/step\n"
          ]
        }
      ]
    },
    {
      "cell_type": "code",
      "source": [
        "print(np.argmax(Y_pred[0])) # Print out the predicted number for the first image"
      ],
      "metadata": {
        "colab": {
          "base_uri": "https://localhost:8080/"
        },
        "id": "7DUYIAm0_ZAz",
        "outputId": "93c2ab99-7d9e-4b24-b1d5-a0435392cdbb"
      },
      "execution_count": null,
      "outputs": [
        {
          "output_type": "stream",
          "name": "stdout",
          "text": [
            "7\n"
          ]
        }
      ]
    },
    {
      "cell_type": "markdown",
      "source": [
        "Congratulations, The predicted number is also 7, The prediction is correct!!!"
      ],
      "metadata": {
        "id": "pcfEgbCiB7k0"
      }
    },
    {
      "cell_type": "markdown",
      "source": [
        "We can check how well the trained model is"
      ],
      "metadata": {
        "id": "0cRxScMbCNJQ"
      }
    },
    {
      "cell_type": "code",
      "execution_count": null,
      "metadata": {
        "_uuid": "6586e37bd470db822086e191a90388e7175d504f",
        "id": "A7d6g2fl2xMj",
        "colab": {
          "base_uri": "https://localhost:8080/",
          "height": 718
        },
        "outputId": "c8dccfaa-e892-4423-f956-f95853ac777f"
      },
      "outputs": [
        {
          "output_type": "display_data",
          "data": {
            "text/plain": [
              "<Figure size 800x800 with 2 Axes>"
            ],
            "image/png": "[encoded data removed]"
          },
          "metadata": {}
        }
      ],
      "source": [
        "# confusion matrix\n",
        "import seaborn as sns\n",
        "# Convert predictions classes to one hot vectors\n",
        "Y_pred_classes = np.argmax(Y_pred,axis = 1)\n",
        "# Convert validation observations to one hot vectors\n",
        "Y_true = np.argmax(testy,axis = 1)\n",
        "# compute the confusion matrix\n",
        "confusion_mtx = confusion_matrix(Y_true, Y_pred_classes)\n",
        "# plot the confusion matrix\n",
        "f,ax = plt.subplots(figsize=(8, 8))\n",
        "sns.heatmap(confusion_mtx, annot=True, linewidths=0.01,cmap=\"Greens\",linecolor=\"gray\", fmt= '.1f',ax=ax)\n",
        "plt.xlabel(\"Predicted Label\")\n",
        "plt.ylabel(\"True Label\")\n",
        "plt.title(\"Confusion Matrix\")\n",
        "plt.show()"
      ]
    },
    {
      "cell_type": "code",
      "execution_count": null,
      "metadata": {
        "id": "HQrtlT6n2xMj",
        "colab": {
          "base_uri": "https://localhost:8080/"
        },
        "outputId": "329bcb2c-a14b-4bc1-de83-104375083190"
      },
      "outputs": [
        {
          "output_type": "execute_result",
          "data": {
            "text/plain": [
              "0.9835"
            ]
          },
          "metadata": {},
          "execution_count": 27
        }
      ],
      "source": [
        "### calculate accuracy on test data\n",
        "from sklearn.metrics import accuracy_score\n",
        "accuracy_score(Y_true, Y_pred_classes)"
      ]
    },
    {
      "cell_type": "markdown",
      "source": [
        "# Challenges\n",
        "\n",
        "Build a simpler ConvNet with your choice of architecture  that includes:\n",
        "\n",
        "- 1 Conv layer\n",
        "- relu activation for your Conv layer\n",
        "- 1 pooling layer\n",
        "- has at least 1 Dense layer with a softmax activation to make the final prediction about which digit it is\n",
        "\n",
        "Train your model and check the prediction performance"
      ],
      "metadata": {
        "id": "9uf-FjcOJ-ij"
      }
    },
    {
      "cell_type": "code",
      "source": [
        "# Create your simpler ConvNet here:\n",
        "myModel = Sequential()\n",
        "\n",
        "# Step 1: Add a Convolution Layer\n",
        "\n",
        "\n",
        "# Step 2: Add a Relu Activation for the Convolution Layer\n",
        "\n",
        "\n",
        "# Step 3: Add a Pooling Layer\n",
        "\n",
        "\n",
        "# Step 4: Add at least 1 Dense Layer with a SoftMax Activation\n"
      ],
      "metadata": {
        "id": "0X6XseGKd_bv"
      },
      "execution_count": null,
      "outputs": []
    },
    {
      "cell_type": "code",
      "source": [
        "# Define the optimizer\n",
        "optimizer = Adam(learning_rate=0.001, beta_1=0.9, beta_2=0.999)\n",
        "\n",
        "# Compile the model\n",
        "myModel.compile(optimizer = optimizer , loss = \"categorical_crossentropy\", metrics=[\"accuracy\"])\n",
        "\n",
        "# Fit the model\n",
        "history = myModel.fit(x=trainX,y=trainy, batch_size=batch_size,epochs = epochs, validation_data = (train_val,valy))\n",
        "\n",
        "# Model Prediction\n",
        "Y_pred = model.predict(testX)\n",
        "print(np.argmax(Y_pred[0]))"
      ],
      "metadata": {
        "id": "rWlmaRbhVmRq"
      },
      "execution_count": 1,
      "outputs": []
    }
  ],
  "metadata": {
    "kernelspec": {
      "display_name": "Python 3",
      "name": "python3"
    },
    "language_info": {
      "codemirror_mode": {
        "name": "ipython",
        "version": 3
      },
      "file_extension": ".py",
      "mimetype": "text/x-python",
      "name": "python",
      "nbconvert_exporter": "python",
      "pygments_lexer": "ipython3",
      "version": "3.9.0"
    },
    "colab": {
      "provenance": [],
      "gpuType": "T4"
    },
    "accelerator": "GPU"
  },
  "nbformat": 4,
  "nbformat_minor": 0
}